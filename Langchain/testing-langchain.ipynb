{
 "cells": [
  {
   "cell_type": "code",
   "execution_count": 21,
   "id": "406ce440",
   "metadata": {},
   "outputs": [],
   "source": [
    "from dotenv import load_dotenv\n",
    "import os\n",
    "\n",
    "load_dotenv()\n",
    "\n",
    "Grog_API_KEY_key = os.getenv(\"GROQ_API_KEY\")\n"
   ]
  },
  {
   "cell_type": "code",
   "execution_count": null,
   "id": "0db3ad13",
   "metadata": {},
   "outputs": [
    {
     "name": "stdout",
     "output_type": "stream",
     "text": [
      "LangChain is an open-source framework that enables developers to build AI-powered applications by integrating large language models (LLMs) with other AI models and services. Groq is a vector database that allows for efficient similarity searches and nearest neighbor lookups, which is particularly useful for tasks like semantic search, clustering, and recommendation systems.\n",
      "\n",
      "In LangChain, Groq integration enables developers to leverage the power of vector databases to enhance the capabilities of their language models. Here's an overview of how Groq integration works in LangChain:\n",
      "\n",
      "**Architecture**\n",
      "\n",
      "The LangChain architecture consists of three main components:\n",
      "\n",
      "1. **LangChain Core**: This is the core framework that provides a unified interface for interacting with various language models and AI services.\n",
      "2. **Groq Vector Database**: This is the vector database that stores and indexes vector representations of text data.\n",
      "3. **LangChain-Groq Adapter**: This is a custom adapter that bridges the LangChain Core and Groq Vector Database, enabling seamless interaction between the two.\n",
      "\n",
      "**Integration Workflow**\n",
      "\n",
      "Here's a high-level overview of the integration workflow:\n",
      "\n",
      "1. **Text Preprocessing**: When a user inputs text data into a LangChain application, the text is preprocessed using techniques like tokenization, stopword removal, and stemming.\n",
      "2. **Vectorization**: The preprocessed text is then passed through a language model (e.g., BERT, RoBERTa) to generate a vector representation of the text. This vector captures the semantic meaning of the input text.\n",
      "3. **Groq Indexing**: The generated vector is then indexed in the Groq vector database. Groq uses various indexing techniques, such as HNSW (Hierarchical Navigable Small World) graphs, to enable efficient similarity searches.\n",
      "4. **Querying**: When a user queries the LangChain application, the query text is also vectorized using the same language model.\n",
      "5. **Nearest Neighbor Search**: The vectorized query is then used to perform a nearest neighbor search in the Groq vector database. Groq returns a list of similar vectors, along with their corresponding distances, that match the query vector.\n",
      "6. **Post-processing**: The LangChain application can then use the retrieved vectors and distances to perform various tasks, such as ranking, filtering, or clustering.\n",
      "\n",
      "**Benefits**\n",
      "\n",
      "The integration of Groq with LangChain provides several benefits, including:\n",
      "\n",
      "* **Efficient similarity searches**: Groq's vector database enables fast and efficient similarity searches, even with large datasets.\n",
      "* **Improved semantic search**: By leveraging the semantic meaning captured in vector representations, LangChain applications can provide more accurate and relevant search results.\n",
      "* **Enhanced clustering and recommendation**: The integration enables developers to build more effective clustering and recommendation systems, which can be used in various applications, such as chatbots, search engines, and content recommendation platforms.\n",
      "\n",
      "In summary, the Groq integration in LangChain enables developers to build more powerful and efficient AI-powered applications by leveraging the strengths of vector databases and large language models.\n"
     ]
    }
   ],
   "source": [
    "from langchain_groq import ChatGroq\n",
    "\n",
    "llm = ChatGroq(\n",
    "    model_name=\"llama3-70b-8192\",  # or other valid Groq model\n",
    "    temperature=0.7\n",
    ")\n",
    "\n"
   ]
  },
  {
   "cell_type": "code",
   "execution_count": null,
   "id": "23f073b9",
   "metadata": {},
   "outputs": [
    {
     "data": {
      "text/plain": [
       "'i want to open for France food . suggest a fancy name for this'"
      ]
     },
     "execution_count": 23,
     "metadata": {},
     "output_type": "execute_result"
    }
   ],
   "source": [
    "from langchain.prompts import PromptTemplate\n",
    "# Learning from template for doing multiple thigs at once using langchain\n",
    "#from langchain_core.prompts import ChatPromptTemplate\n",
    "prompt_template_name = PromptTemplate(\n",
    "    input_variables=[\"cuisine\"],  \n",
    "    template=\"i want to open for {cuisine} food . suggest a fancy name for this\"\n",
    ")\n",
    "name_chain = LLMChain(  \n",
    "    llm=llm,\n",
    "    prompt=prompt_template_name\n",
    ")\n"
   ]
  },
  {
   "cell_type": "code",
   "execution_count": null,
   "id": "f8f9b71a",
   "metadata": {},
   "outputs": [
    {
     "name": "stderr",
     "output_type": "stream",
     "text": [
      "C:\\Users\\wadud\\AppData\\Local\\Temp\\ipykernel_8840\\81549743.py:2: LangChainDeprecationWarning: The class `LLMChain` was deprecated in LangChain 0.1.17 and will be removed in 1.0. Use :meth:`~RunnableSequence, e.g., `prompt | llm`` instead.\n",
      "  chain = LLMChain(\n",
      "C:\\Users\\wadud\\AppData\\Local\\Temp\\ipykernel_8840\\81549743.py:7: LangChainDeprecationWarning: The method `Chain.run` was deprecated in langchain 0.1.0 and will be removed in 1.0. Use :meth:`~invoke` instead.\n",
      "  chain.run(cuisine=\"France\")\n"
     ]
    },
    {
     "data": {
      "text/plain": [
       "'Bonjour! Congratulations on your decision to open a French food establishment! Here are some fancy name suggestions for you:\\n\\n1. **Bistro Élégance** - A classic French name that exudes sophistication and refinement.\\n2. **La Belle Époque** - Inspired by the beautiful era of French history, this name evokes a sense of luxury and nostalgia.\\n3. **Le Coeur de la Cuisine** - Meaning \"The Heart of Cuisine,\" this name highlights the passion and love that goes into French cooking.\\n4. **Fleur de Sel** - A play on the French phrase for \"flower of salt,\" this name adds a touch of elegance and whimsy to your establishment.\\n5. **Le Petit Châtelet** - Inspired by the famous Parisian theater, this name suggests a sophisticated and cultured dining experience.\\n6. **Café de l\\'Art** - Combining art and cuisine, this name promises a unique and creative dining experience.\\n7. **La Maison Gourmande** - Meaning \"The Gourmet House,\" this name emphasizes the richness and indulgence of French cuisine.\\n8. **Le Bistrot Bourgeois** - This name combines the casual, cozy atmosphere of a bistro with the sophistication of haute cuisine.\\n9. **L\\'Atelier Gourmet** - Inspired by the artistic concept of an atelier, this name suggests a creative and expert approach to French cuisine.\\n10. **La Vie En Rose** - This name, inspired by the famous Édith Piaf song, evokes a sense of romance, elegance, and joie de vivre.\\n\\nChoose the one that resonates with your vision and cuisine, and bon appétit!'"
      ]
     },
     "execution_count": 24,
     "metadata": {},
     "output_type": "execute_result"
    }
   ],
   "source": [
    "# Here we using chain to run the prompt with the llm\n",
    "from langchain.chains import LLMChain\n",
    "chain = LLMChain(  \n",
    "    llm=llm,\n",
    "    prompt=prompt_template_name\n",
    "\n",
    ")\n",
    "chain.run(cuisine=\"France\")\n"
   ]
  },
  {
   "cell_type": "code",
   "execution_count": null,
   "id": "c968c84b",
   "metadata": {},
   "outputs": [],
   "source": [
    "# Here We Create Multiple Chains Connect to one another \n",
    "llm = ChatGroq(\n",
    "    model_name=\"llama3-70b-8192\",  # or other valid Groq model\n",
    "    temperature=0.7\n",
    ")\n",
    "\n",
    "prompt_template_name = PromptTemplate(\n",
    "    input_variables=[\"cuisine\"],  \n",
    "    template=\"i want to open for {cuisine} food . suggest a fancy name for this\"\n",
    ")\n",
    "name_chain = LLMChain(  \n",
    "    llm=llm,\n",
    "    prompt=prompt_template_name\n",
    ")\n",
    "llm = ChatGroq(\n",
    "    model_name=\"llama3-70b-8192\",  # or other valid Groq model\n",
    "    temperature=0.7\n",
    ")\n",
    "\n",
    "prompt_tempalte_food_items = PromptTemplate(\n",
    "    input_variables=[\"resurant_name\"],\n",
    "    template=\"i want to open a restaurant named {resurant_name} . suggest some food items for this restaurant\"\n",
    ")\n",
    "food_iteams_chain = LLMChain(\n",
    "    llm=llm,   \n",
    "    prompt=prompt_tempalte_food_items\n",
    ")"
   ]
  },
  {
   "cell_type": "code",
   "execution_count": 40,
   "id": "e3a0f466",
   "metadata": {},
   "outputs": [
    {
     "data": {
      "text/plain": [
       "\"What a great choice! Let's go with **Tandoor Mahal** for your Indian food restaurant. The name exudes luxury and grandeur, perfect for a fine dining experience.\\n\\nNow, let's create a menu that will delight your customers' taste buds! Here are some food item suggestions for Tandoor Mahal:\\n\\n**Appetizers**\\n\\n1. **Mahal ki Seekh** (Royal Skewers) - Tender chicken or lamb seekh kebabs marinated in a blend of spices and yogurt, grilled to perfection in the tandoor.\\n2. **Dahi Bhalla** - Crispy fried flour bread served with a side of yogurt, chutney, and spices.\\n3. **Paneer Tikka** - Marinated Indian cheese grilled in the tandoor and served with a tangy mint chutney.\\n\\n**Tandoor Specialties**\\n\\n1. **Tandoori Chicken** - Classic Indian-style roasted chicken marinated in a blend of spices, yogurt, and lemon juice.\\n2. **Butter Chicken** - Tender chicken cooked in a rich, creamy tomato sauce with a hint of butter and spices.\\n3. **Sagwala Gosht** - Tender lamb cooked in a flavorful spinach curry with garlic and ginger.\\n4. **Tandoori Fish** - Fresh fish marinated in a zesty blend of spices and yogurt, grilled to perfection in the tandoor.\\n\\n**Curries & Biryanis**\\n\\n1. **Chana Masala** - A North Indian favorite made with chickpeas cooked in a rich, spicy tomato sauce.\\n2. **Palak Paneer** - Creamy spinach curry with marinated Indian cheese and a hint of garlic.\\n3. **Hyderabadi Dum Biryani** - Aromatic basmati rice cooked with lamb or chicken, onions, and spices, served with a side of raita.\\n4. **Veg Jalfrezi** - Stir-fried mixed vegetables in a spicy tomato sauce, served with basmati rice or roti.\\n\\n**Sides & Desserts**\\n\\n1. **Garlic Naan** - Freshly baked leavened flatbread flavored with garlic and herbs.\\n2. **Basmati Rice** - Fragrant, long-grain rice cooked to perfection.\\n3. **Raita** - A cool and creamy yogurt side dish with cucumber, cumin, and coriander.\\n4. **Gulab Jamun** - Warm dumplings soaked in a sweet, rose-water syrup, served with a sprinkle of cardamom.\\n5. **Kulfi** - Indian-style ice cream flavored with cardamom, saffron, or mango.\\n\\n**Beverages**\\n\\n1. **Masala Chai** - Spiced black tea blended with cinnamon, cardamom, and ginger.\\n2. **Lassi** - A refreshing yogurt-based drink flavored with spices, salt, or fruit.\\n3. **Jal Jeera** - A spicy cumin-flavored drink perfect for hot summer days.\\n\\nThese dishes will give your customers a taste of the rich culinary heritage of India, while the luxurious atmosphere of Tandoor Mahal will make them feel like royalty!\""
      ]
     },
     "execution_count": 40,
     "metadata": {},
     "output_type": "execute_result"
    }
   ],
   "source": [
    "# Here we Implement MUltiple Chain connect to one another \n",
    "from langchain.chains import SimpleSequentialChain\n",
    "\n",
    "chain = SimpleSequentialChain(\n",
    "    chains=[name_chain, food_iteams_chain  ]\n",
    "    )\n",
    "chain.run(\"Indian\")"
   ]
  },
  {
   "cell_type": "code",
   "execution_count": null,
   "id": "24e7dbf1",
   "metadata": {},
   "outputs": [],
   "source": [
    "# Adding just output key\n",
    "# Key Points to Remember That the variable of first chain outpukey must be same with the input variable of second key other wise it give use error\n",
    "llm = ChatGroq(\n",
    "    model_name=\"llama3-70b-8192\",  # or other valid Groq model\n",
    "    temperature=0.7\n",
    ")\n",
    "\n",
    "prompt_template_name = PromptTemplate(\n",
    "    input_variables=[\"cuisine\"],\n",
    "    template=\"i want to open for {cuisine} food . suggest a fancy name for this\"\n",
    ")\n",
    "\n",
    "\n",
    "name_chain = LLMChain(  \n",
    "    llm=llm,\n",
    "    prompt=prompt_template_name,\n",
    "    output_key=\"restaurant_name\"  # Adding output key to the chain\n",
    ")\n",
    "llm = ChatGroq(\n",
    "    model_name=\"llama3-70b-8192\",  # or other valid Groq model\n",
    "    temperature=0.7\n",
    ")\n",
    "\n",
    "\n",
    "prompt_tempalte_food_items = PromptTemplate(\n",
    "    input_variables=[\"restaurant_name\"],\n",
    "    template=\"i want to open a restaurant named {restaurant_name} . suggest some food items for this restaurant\"\n",
    ")\n",
    "food_iteams_chain = LLMChain(\n",
    "    llm=llm,   \n",
    "    prompt=prompt_tempalte_food_items,\n",
    "    output_key=\"menu_items\"  # Adding output key to the chain\n",
    ")\n"
   ]
  },
  {
   "cell_type": "code",
   "execution_count": 45,
   "id": "9166644f",
   "metadata": {},
   "outputs": [
    {
     "name": "stderr",
     "output_type": "stream",
     "text": [
      "C:\\Users\\wadud\\AppData\\Local\\Temp\\ipykernel_8840\\1209070133.py:7: LangChainDeprecationWarning: The method `Chain.__call__` was deprecated in langchain 0.1.0 and will be removed in 1.0. Use :meth:`~invoke` instead.\n",
      "  chain({\"cuisine\": \"Indian\"})\n"
     ]
    },
    {
     "data": {
      "text/plain": [
       "{'cuisine': 'Indian',\n",
       " 'restaurant_name': 'Here are some fancy name suggestions for your Indian food restaurant:\\n\\n1. **Taste of Taj**: Inspired by the iconic Taj Mahal, this name evokes a sense of luxury and richness.\\n2. **Dhaba Royale**: \"Dhaba\" is a colloquial term for a rustic, roadside eatery in India, while \"Royale\" adds a touch of sophistication.\\n3. **Spice Route Bazaar**: This name conjures up images of the ancient spice trade routes and the vibrant atmosphere of an Indian bazaar.\\n4. **Maharaja\\'s Kitchen**: \"Maharaja\" means \"great king\" in Hindi, implying a regal dining experience.\\n5. **Garam Gourmet**: \"Garam\" means \"hot\" or \"warm\" in Hindi, while \"Gourmet\" emphasizes the high-end quality of your cuisine.\\n6. **Saffron & Spice**: Saffron is a prized Indian spice, and pairing it with \"Spice\" creates a name that\\'s both exotic and aromatic.\\n7. **India Palace**: This name suggests a grand, opulent dining experience, fit for royalty.\\n8. **Tandoor & Turmeric**: \"Tandoor\" is a traditional Indian clay oven, while \"Turmeric\" is a staple spice in Indian cuisine. This name combines the two for a unique, catchy title.\\n9. **Rani\\'s Rasoi**: \"Rani\" means \"queen\" in Hindi, while \"Rasoi\" means \"kitchen.\" This name implies a warm, welcoming atmosphere fit for a queen.\\n10. **Bombay Bazaar Grill**: \"Bombay\" is the former name of Mumbai, India\\'s financial capital, while \"Bazaar Grill\" suggests a lively, vibrant dining experience.\\n\\nChoose the one that resonates with your vision and cuisine!',\n",
       " 'menu_items': \"What a great selection of names! I'll assume you've chosen one of these fantastic options.\\n\\nFor the sake of this exercise, let's say you've chosen **Taste of Taj** as the name for your Indian food restaurant. Here are some mouth-watering food item suggestions to get you started:\\n\\n**Appetizers**\\n\\n1. Taj's Tandoori Delight (Assorted vegetables marinated in yogurt and spices, grilled to perfection)\\n2. Samosas Royale (Crispy fried or baked pastries filled with spiced potatoes and peas)\\n3. Paneer Tikka (Marinated Indian cheese grilled to perfection, served with a side of tangy chutney)\\n4. Vegetable Chaat (A flavorful mix of boiled potatoes, chickpeas, onions, and tamarind chutney)\\n\\n**Entrees**\\n\\n1. Taj Mahal Chicken Tikka Masala (Tender chicken cooked in a rich, creamy tomato sauce)\\n2. Palace Vegetable Korma (Mixed vegetables cooked in a mild, creamy sauce with nuts and spices)\\n3. Maharaja's Lamb Vindaloo (Spicy lamb curry cooked with vinegar, garlic, and a blend of spices)\\n4. Dhaba-Style Chana Masala (North Indian-style chickpea curry cooked with onions, garlic, and a blend of spices)\\n\\n**Specialties**\\n\\n1. Saffron Biriyani (Aromatic basmati rice cooked with saffron, spices, and marinated chicken or lamb)\\n2. Tandoori Chicken Tika (Marinated chicken grilled to perfection in a traditional tandoor oven)\\n3. Palak Paneer (Creamy spinach curry with marinated Indian cheese and spices)\\n4. Rajasthani Laal Maans (Spicy lamb curry cooked with yogurt, garlic, and a blend of spices)\\n\\n**Desserts**\\n\\n1. Gulab Jamun (Deep-fried dumplings soaked in a sweet, rose-water syrup)\\n2. Kulfi Falooda (Indian-style ice cream topped with vermicelli noodles, nuts, and a sweet syrup)\\n3. Jalebi (Crispy, fermented batter fried and soaked in a sweet syrup)\\n4. Cardamom and Rosewater Rice Pudding (Creamy pudding flavored with cardamom and rosewater, garnished with nuts)\\n\\n**Beverages**\\n\\n1. Mango Lassi (Yogurt-based drink blended with mango puree and spices)\\n2. Chai Masala (Spiced black tea served with milk and sugar)\\n3. Jal Jeera (Spicy cumin-flavored drink served with a splash of lemon)\\n4. Nimbu Pani (Fresh limeade flavored with black salt and spices)\\n\\nThese are just a few ideas to get you started. You can always experiment with different recipes and dishes to create a unique menu that showcases the flavors and diversity of Indian cuisine. Good luck with your restaurant venture!\"}"
      ]
     },
     "execution_count": 45,
     "metadata": {},
     "output_type": "execute_result"
    }
   ],
   "source": [
    "from langchain.chains import SequentialChain\n",
    "chain = SequentialChain(\n",
    "    chains=[name_chain, food_iteams_chain],\n",
    "    input_variables=[\"cuisine\"],\n",
    "    output_variables=[\"restaurant_name\", \"menu_items\"]\n",
    ")\n",
    "chain({\"cuisine\": \"Indian\"})"
   ]
  }
 ],
 "metadata": {
  "kernelspec": {
   "display_name": "Python 3",
   "language": "python",
   "name": "python3"
  },
  "language_info": {
   "codemirror_mode": {
    "name": "ipython",
    "version": 3
   },
   "file_extension": ".py",
   "mimetype": "text/x-python",
   "name": "python",
   "nbconvert_exporter": "python",
   "pygments_lexer": "ipython3",
   "version": "3.12.4"
  }
 },
 "nbformat": 4,
 "nbformat_minor": 5
}
