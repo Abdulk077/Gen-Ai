{
 "cells": [
  {
   "cell_type": "code",
   "execution_count": 5,
   "id": "406ce440",
   "metadata": {},
   "outputs": [],
   "source": [
    "from dotenv import load_dotenv\n",
    "import os\n",
    "\n",
    "load_dotenv()\n",
    "\n",
    "Grog_API_KEY_key = os.getenv(\"GROQ_API_KEY\")\n"
   ]
  },
  {
   "cell_type": "code",
   "execution_count": 9,
   "id": "704235d3",
   "metadata": {},
   "outputs": [],
   "source": [
    "## ALL the imports\n",
    "from langchain import LLMChain\n",
    "from langchain_groq import ChatGroq\n",
    "from langchain.chains import SequentialChain\n",
    "\n",
    "\n",
    "from langchain.chains import SimpleSequentialChain\n"
   ]
  },
  {
   "cell_type": "code",
   "execution_count": 7,
   "id": "0db3ad13",
   "metadata": {},
   "outputs": [],
   "source": [
    "from langchain_groq import ChatGroq\n",
    "\n",
    "llm = ChatGroq(\n",
    "    model_name=\"llama3-70b-8192\",  # or other valid Groq model\n",
    "    temperature=0.7\n",
    ")\n",
    "\n"
   ]
  },
  {
   "cell_type": "code",
   "execution_count": 10,
   "id": "23f073b9",
   "metadata": {},
   "outputs": [
    {
     "name": "stderr",
     "output_type": "stream",
     "text": [
      "C:\\Users\\wadud\\AppData\\Local\\Temp\\ipykernel_13816\\3391633493.py:8: LangChainDeprecationWarning: The class `LLMChain` was deprecated in LangChain 0.1.17 and will be removed in 1.0. Use :meth:`~RunnableSequence, e.g., `prompt | llm`` instead.\n",
      "  name_chain = LLMChain(\n"
     ]
    }
   ],
   "source": [
    "from langchain.prompts import PromptTemplate\n",
    "# Learning from template for doing multiple thigs at once using langchain\n",
    "#from langchain_core.prompts import ChatPromptTemplate\n",
    "prompt_template_name = PromptTemplate(\n",
    "    input_variables=[\"cuisine\"],  \n",
    "    template=\"i want to open for {cuisine} food . suggest a fancy name for this\"\n",
    ")\n",
    "name_chain = LLMChain(  \n",
    "    llm=llm,\n",
    "    prompt=prompt_template_name\n",
    ")\n"
   ]
  },
  {
   "cell_type": "code",
   "execution_count": null,
   "id": "f8f9b71a",
   "metadata": {},
   "outputs": [
    {
     "name": "stderr",
     "output_type": "stream",
     "text": [
      "C:\\Users\\wadud\\AppData\\Local\\Temp\\ipykernel_8840\\81549743.py:2: LangChainDeprecationWarning: The class `LLMChain` was deprecated in LangChain 0.1.17 and will be removed in 1.0. Use :meth:`~RunnableSequence, e.g., `prompt | llm`` instead.\n",
      "  chain = LLMChain(\n",
      "C:\\Users\\wadud\\AppData\\Local\\Temp\\ipykernel_8840\\81549743.py:7: LangChainDeprecationWarning: The method `Chain.run` was deprecated in langchain 0.1.0 and will be removed in 1.0. Use :meth:`~invoke` instead.\n",
      "  chain.run(cuisine=\"France\")\n"
     ]
    },
    {
     "data": {
      "text/plain": [
       "'Bonjour! Congratulations on your decision to open a French food establishment! Here are some fancy name suggestions for you:\\n\\n1. **Bistro Élégance** - A classic French name that exudes sophistication and refinement.\\n2. **La Belle Époque** - Inspired by the beautiful era of French history, this name evokes a sense of luxury and nostalgia.\\n3. **Le Coeur de la Cuisine** - Meaning \"The Heart of Cuisine,\" this name highlights the passion and love that goes into French cooking.\\n4. **Fleur de Sel** - A play on the French phrase for \"flower of salt,\" this name adds a touch of elegance and whimsy to your establishment.\\n5. **Le Petit Châtelet** - Inspired by the famous Parisian theater, this name suggests a sophisticated and cultured dining experience.\\n6. **Café de l\\'Art** - Combining art and cuisine, this name promises a unique and creative dining experience.\\n7. **La Maison Gourmande** - Meaning \"The Gourmet House,\" this name emphasizes the richness and indulgence of French cuisine.\\n8. **Le Bistrot Bourgeois** - This name combines the casual, cozy atmosphere of a bistro with the sophistication of haute cuisine.\\n9. **L\\'Atelier Gourmet** - Inspired by the artistic concept of an atelier, this name suggests a creative and expert approach to French cuisine.\\n10. **La Vie En Rose** - This name, inspired by the famous Édith Piaf song, evokes a sense of romance, elegance, and joie de vivre.\\n\\nChoose the one that resonates with your vision and cuisine, and bon appétit!'"
      ]
     },
     "execution_count": 24,
     "metadata": {},
     "output_type": "execute_result"
    }
   ],
   "source": [
    "# Here we using chain to run the prompt with the llm\n",
    "from langchain.chains import LLMChain\n",
    "chain = LLMChain(  \n",
    "    llm=llm,\n",
    "    prompt=prompt_template_name\n",
    "\n",
    ")\n",
    "chain.run(cuisine=\"France\")\n"
   ]
  },
  {
   "cell_type": "code",
   "execution_count": null,
   "id": "c968c84b",
   "metadata": {},
   "outputs": [],
   "source": [
    "# Here We Create Multiple Chains Connect to one another \n",
    "llm = ChatGroq(\n",
    "    model_name=\"llama3-70b-8192\",  # or other valid Groq model\n",
    "    temperature=0.7\n",
    ")\n",
    "\n",
    "prompt_template_name = PromptTemplate(\n",
    "    input_variables=[\"cuisine\"],  \n",
    "    template=\"i want to open for {cuisine} food . suggest a fancy name for this\"\n",
    ")\n",
    "name_chain = LLMChain(  \n",
    "    llm=llm,\n",
    "    prompt=prompt_template_name\n",
    ")\n",
    "llm = ChatGroq(\n",
    "    model_name=\"llama3-70b-8192\",  # or other valid Groq model\n",
    "    temperature=0.7\n",
    ")\n",
    "\n",
    "prompt_tempalte_food_items = PromptTemplate(\n",
    "    input_variables=[\"resurant_name\"],\n",
    "    template=\"i want to open a restaurant named {resurant_name} . suggest some food items for this restaurant\"\n",
    ")\n",
    "food_iteams_chain = LLMChain(\n",
    "    llm=llm,   \n",
    "    prompt=prompt_tempalte_food_items\n",
    ")"
   ]
  },
  {
   "cell_type": "code",
   "execution_count": 40,
   "id": "e3a0f466",
   "metadata": {},
   "outputs": [
    {
     "data": {
      "text/plain": [
       "\"What a great choice! Let's go with **Tandoor Mahal** for your Indian food restaurant. The name exudes luxury and grandeur, perfect for a fine dining experience.\\n\\nNow, let's create a menu that will delight your customers' taste buds! Here are some food item suggestions for Tandoor Mahal:\\n\\n**Appetizers**\\n\\n1. **Mahal ki Seekh** (Royal Skewers) - Tender chicken or lamb seekh kebabs marinated in a blend of spices and yogurt, grilled to perfection in the tandoor.\\n2. **Dahi Bhalla** - Crispy fried flour bread served with a side of yogurt, chutney, and spices.\\n3. **Paneer Tikka** - Marinated Indian cheese grilled in the tandoor and served with a tangy mint chutney.\\n\\n**Tandoor Specialties**\\n\\n1. **Tandoori Chicken** - Classic Indian-style roasted chicken marinated in a blend of spices, yogurt, and lemon juice.\\n2. **Butter Chicken** - Tender chicken cooked in a rich, creamy tomato sauce with a hint of butter and spices.\\n3. **Sagwala Gosht** - Tender lamb cooked in a flavorful spinach curry with garlic and ginger.\\n4. **Tandoori Fish** - Fresh fish marinated in a zesty blend of spices and yogurt, grilled to perfection in the tandoor.\\n\\n**Curries & Biryanis**\\n\\n1. **Chana Masala** - A North Indian favorite made with chickpeas cooked in a rich, spicy tomato sauce.\\n2. **Palak Paneer** - Creamy spinach curry with marinated Indian cheese and a hint of garlic.\\n3. **Hyderabadi Dum Biryani** - Aromatic basmati rice cooked with lamb or chicken, onions, and spices, served with a side of raita.\\n4. **Veg Jalfrezi** - Stir-fried mixed vegetables in a spicy tomato sauce, served with basmati rice or roti.\\n\\n**Sides & Desserts**\\n\\n1. **Garlic Naan** - Freshly baked leavened flatbread flavored with garlic and herbs.\\n2. **Basmati Rice** - Fragrant, long-grain rice cooked to perfection.\\n3. **Raita** - A cool and creamy yogurt side dish with cucumber, cumin, and coriander.\\n4. **Gulab Jamun** - Warm dumplings soaked in a sweet, rose-water syrup, served with a sprinkle of cardamom.\\n5. **Kulfi** - Indian-style ice cream flavored with cardamom, saffron, or mango.\\n\\n**Beverages**\\n\\n1. **Masala Chai** - Spiced black tea blended with cinnamon, cardamom, and ginger.\\n2. **Lassi** - A refreshing yogurt-based drink flavored with spices, salt, or fruit.\\n3. **Jal Jeera** - A spicy cumin-flavored drink perfect for hot summer days.\\n\\nThese dishes will give your customers a taste of the rich culinary heritage of India, while the luxurious atmosphere of Tandoor Mahal will make them feel like royalty!\""
      ]
     },
     "execution_count": 40,
     "metadata": {},
     "output_type": "execute_result"
    }
   ],
   "source": [
    "# Here we Implement MUltiple Chain connect to one another \n",
    "from langchain.chains import SimpleSequentialChain\n",
    "\n",
    "chain = SimpleSequentialChain(\n",
    "    chains=[name_chain, food_iteams_chain  ]\n",
    "    )\n",
    "chain.run(\"Indian\")"
   ]
  },
  {
   "cell_type": "code",
   "execution_count": 4,
   "id": "24e7dbf1",
   "metadata": {},
   "outputs": [
    {
     "ename": "NameError",
     "evalue": "name 'PromptTemplate' is not defined",
     "output_type": "error",
     "traceback": [
      "\u001b[1;31m---------------------------------------------------------------------------\u001b[0m",
      "\u001b[1;31mNameError\u001b[0m                                 Traceback (most recent call last)",
      "Cell \u001b[1;32mIn[4], line 8\u001b[0m\n\u001b[0;32m      1\u001b[0m \u001b[38;5;66;03m# Adding just output key\u001b[39;00m\n\u001b[0;32m      2\u001b[0m \u001b[38;5;66;03m# Key Points to Remember That the variable of first chain outpukey must be same with the input variable of second key other wise it give use error\u001b[39;00m\n\u001b[0;32m      3\u001b[0m llm \u001b[38;5;241m=\u001b[39m ChatGroq(\n\u001b[0;32m      4\u001b[0m     model_name\u001b[38;5;241m=\u001b[39m\u001b[38;5;124m\"\u001b[39m\u001b[38;5;124mllama3-70b-8192\u001b[39m\u001b[38;5;124m\"\u001b[39m,  \u001b[38;5;66;03m# or other valid Groq model\u001b[39;00m\n\u001b[0;32m      5\u001b[0m     temperature\u001b[38;5;241m=\u001b[39m\u001b[38;5;241m0.7\u001b[39m\n\u001b[0;32m      6\u001b[0m )\n\u001b[1;32m----> 8\u001b[0m prompt_template_name \u001b[38;5;241m=\u001b[39m \u001b[43mPromptTemplate\u001b[49m(\n\u001b[0;32m      9\u001b[0m     input_variables\u001b[38;5;241m=\u001b[39m[\u001b[38;5;124m\"\u001b[39m\u001b[38;5;124mcuisine\u001b[39m\u001b[38;5;124m\"\u001b[39m],\n\u001b[0;32m     10\u001b[0m     template\u001b[38;5;241m=\u001b[39m\u001b[38;5;124m\"\u001b[39m\u001b[38;5;124mi want to open for \u001b[39m\u001b[38;5;132;01m{cuisine}\u001b[39;00m\u001b[38;5;124m food . suggest a fancy name for this\u001b[39m\u001b[38;5;124m\"\u001b[39m\n\u001b[0;32m     11\u001b[0m )\n\u001b[0;32m     14\u001b[0m name_chain \u001b[38;5;241m=\u001b[39m LLMChain(  \n\u001b[0;32m     15\u001b[0m     llm\u001b[38;5;241m=\u001b[39mllm,\n\u001b[0;32m     16\u001b[0m     prompt\u001b[38;5;241m=\u001b[39mprompt_template_name,\n\u001b[0;32m     17\u001b[0m     output_key\u001b[38;5;241m=\u001b[39m\u001b[38;5;124m\"\u001b[39m\u001b[38;5;124mrestaurant_name\u001b[39m\u001b[38;5;124m\"\u001b[39m  \u001b[38;5;66;03m# Adding output key to the chain\u001b[39;00m\n\u001b[0;32m     18\u001b[0m )\n\u001b[0;32m     19\u001b[0m llm \u001b[38;5;241m=\u001b[39m ChatGroq(\n\u001b[0;32m     20\u001b[0m     model_name\u001b[38;5;241m=\u001b[39m\u001b[38;5;124m\"\u001b[39m\u001b[38;5;124mllama3-70b-8192\u001b[39m\u001b[38;5;124m\"\u001b[39m,  \u001b[38;5;66;03m# or other valid Groq model\u001b[39;00m\n\u001b[0;32m     21\u001b[0m     temperature\u001b[38;5;241m=\u001b[39m\u001b[38;5;241m0.7\u001b[39m\n\u001b[0;32m     22\u001b[0m )\n",
      "\u001b[1;31mNameError\u001b[0m: name 'PromptTemplate' is not defined"
     ]
    }
   ],
   "source": [
    "# Adding just output key\n",
    "# Key Points to Remember That the variable of first chain outpukey must be same with the input variable of second key other wise it give use error\n",
    "llm = ChatGroq(\n",
    "    model_name=\"llama3-70b-8192\",  # or other valid Groq model\n",
    "    temperature=0.7\n",
    ")\n",
    "\n",
    "prompt_template_name = PromptTemplate(\n",
    "    input_variables=[\"cuisine\"],\n",
    "    template=\"i want to open for {cuisine} food . suggest a fancy name for this\"\n",
    ")\n",
    "\n",
    "\n",
    "name_chain = LLMChain(  \n",
    "    llm=llm,\n",
    "    prompt=prompt_template_name,\n",
    "    output_key=\"restaurant_name\"  # Adding output key to the chain\n",
    ")\n",
    "llm = ChatGroq(\n",
    "    model_name=\"llama3-70b-8192\",  # or other valid Groq model\n",
    "    temperature=0.7\n",
    ")\n",
    "\n",
    "\n",
    "prompt_tempalte_food_items = PromptTemplate(\n",
    "    input_variables=[\"restaurant_name\"],\n",
    "    template=\"i want to open a restaurant named {restaurant_name} . suggest some food items for this restaurant\"\n",
    ")\n",
    "food_iteams_chain = LLMChain(\n",
    "    llm=llm,   \n",
    "    prompt=prompt_tempalte_food_items,\n",
    "    output_key=\"menu_items\"  # Adding output key to the chain\n",
    ")\n"
   ]
  },
  {
   "cell_type": "code",
   "execution_count": 45,
   "id": "9166644f",
   "metadata": {},
   "outputs": [
    {
     "name": "stderr",
     "output_type": "stream",
     "text": [
      "C:\\Users\\wadud\\AppData\\Local\\Temp\\ipykernel_8840\\1209070133.py:7: LangChainDeprecationWarning: The method `Chain.__call__` was deprecated in langchain 0.1.0 and will be removed in 1.0. Use :meth:`~invoke` instead.\n",
      "  chain({\"cuisine\": \"Indian\"})\n"
     ]
    },
    {
     "data": {
      "text/plain": [
       "{'cuisine': 'Indian',\n",
       " 'restaurant_name': 'Here are some fancy name suggestions for your Indian food restaurant:\\n\\n1. **Taste of Taj**: Inspired by the iconic Taj Mahal, this name evokes a sense of luxury and richness.\\n2. **Dhaba Royale**: \"Dhaba\" is a colloquial term for a rustic, roadside eatery in India, while \"Royale\" adds a touch of sophistication.\\n3. **Spice Route Bazaar**: This name conjures up images of the ancient spice trade routes and the vibrant atmosphere of an Indian bazaar.\\n4. **Maharaja\\'s Kitchen**: \"Maharaja\" means \"great king\" in Hindi, implying a regal dining experience.\\n5. **Garam Gourmet**: \"Garam\" means \"hot\" or \"warm\" in Hindi, while \"Gourmet\" emphasizes the high-end quality of your cuisine.\\n6. **Saffron & Spice**: Saffron is a prized Indian spice, and pairing it with \"Spice\" creates a name that\\'s both exotic and aromatic.\\n7. **India Palace**: This name suggests a grand, opulent dining experience, fit for royalty.\\n8. **Tandoor & Turmeric**: \"Tandoor\" is a traditional Indian clay oven, while \"Turmeric\" is a staple spice in Indian cuisine. This name combines the two for a unique, catchy title.\\n9. **Rani\\'s Rasoi**: \"Rani\" means \"queen\" in Hindi, while \"Rasoi\" means \"kitchen.\" This name implies a warm, welcoming atmosphere fit for a queen.\\n10. **Bombay Bazaar Grill**: \"Bombay\" is the former name of Mumbai, India\\'s financial capital, while \"Bazaar Grill\" suggests a lively, vibrant dining experience.\\n\\nChoose the one that resonates with your vision and cuisine!',\n",
       " 'menu_items': \"What a great selection of names! I'll assume you've chosen one of these fantastic options.\\n\\nFor the sake of this exercise, let's say you've chosen **Taste of Taj** as the name for your Indian food restaurant. Here are some mouth-watering food item suggestions to get you started:\\n\\n**Appetizers**\\n\\n1. Taj's Tandoori Delight (Assorted vegetables marinated in yogurt and spices, grilled to perfection)\\n2. Samosas Royale (Crispy fried or baked pastries filled with spiced potatoes and peas)\\n3. Paneer Tikka (Marinated Indian cheese grilled to perfection, served with a side of tangy chutney)\\n4. Vegetable Chaat (A flavorful mix of boiled potatoes, chickpeas, onions, and tamarind chutney)\\n\\n**Entrees**\\n\\n1. Taj Mahal Chicken Tikka Masala (Tender chicken cooked in a rich, creamy tomato sauce)\\n2. Palace Vegetable Korma (Mixed vegetables cooked in a mild, creamy sauce with nuts and spices)\\n3. Maharaja's Lamb Vindaloo (Spicy lamb curry cooked with vinegar, garlic, and a blend of spices)\\n4. Dhaba-Style Chana Masala (North Indian-style chickpea curry cooked with onions, garlic, and a blend of spices)\\n\\n**Specialties**\\n\\n1. Saffron Biriyani (Aromatic basmati rice cooked with saffron, spices, and marinated chicken or lamb)\\n2. Tandoori Chicken Tika (Marinated chicken grilled to perfection in a traditional tandoor oven)\\n3. Palak Paneer (Creamy spinach curry with marinated Indian cheese and spices)\\n4. Rajasthani Laal Maans (Spicy lamb curry cooked with yogurt, garlic, and a blend of spices)\\n\\n**Desserts**\\n\\n1. Gulab Jamun (Deep-fried dumplings soaked in a sweet, rose-water syrup)\\n2. Kulfi Falooda (Indian-style ice cream topped with vermicelli noodles, nuts, and a sweet syrup)\\n3. Jalebi (Crispy, fermented batter fried and soaked in a sweet syrup)\\n4. Cardamom and Rosewater Rice Pudding (Creamy pudding flavored with cardamom and rosewater, garnished with nuts)\\n\\n**Beverages**\\n\\n1. Mango Lassi (Yogurt-based drink blended with mango puree and spices)\\n2. Chai Masala (Spiced black tea served with milk and sugar)\\n3. Jal Jeera (Spicy cumin-flavored drink served with a splash of lemon)\\n4. Nimbu Pani (Fresh limeade flavored with black salt and spices)\\n\\nThese are just a few ideas to get you started. You can always experiment with different recipes and dishes to create a unique menu that showcases the flavors and diversity of Indian cuisine. Good luck with your restaurant venture!\"}"
      ]
     },
     "execution_count": 45,
     "metadata": {},
     "output_type": "execute_result"
    }
   ],
   "source": [
    "from langchain.chains import SequentialChain\n",
    "chain = SequentialChain(\n",
    "    chains=[name_chain, food_iteams_chain],\n",
    "    input_variables=[\"cuisine\"],\n",
    "    output_variables=[\"restaurant_name\", \"menu_items\"]\n",
    ")\n",
    "chain({\"cuisine\": \"Indian\"})"
   ]
  },
  {
   "cell_type": "markdown",
   "id": "c1983605",
   "metadata": {},
   "source": [
    "Agent"
   ]
  },
  {
   "cell_type": "code",
   "execution_count": null,
   "id": "ad075c70",
   "metadata": {},
   "outputs": [
    {
     "name": "stdout",
     "output_type": "stream",
     "text": [
      "\n",
      "\n",
      "\u001b[1m> Entering new AgentExecutor chain...\u001b[0m\n",
      "\u001b[32;1m\u001b[1;3mI need to find information about Satya Nadella's birthdate and calculate his age as of 2023.\n",
      "\n",
      "Action: wikipedia\n",
      "Action Input: Satya Nadella\u001b[0m\n",
      "Observation: \u001b[36;1m\u001b[1;3mPage: Satya Nadella\n",
      "Summary: Satya Narayana Nadella (; born 19 August 1967) is an Indian-born American business executive who is the chairman and chief executive officer (CEO) of Microsoft, succeeding Steve Ballmer in 2014 as CEO and John W. Thompson in 2021 as chairman. Before becoming CEO, he was the executive vice president of Microsoft's cloud and enterprise group, responsible for building and running the company's computing platforms.\n",
      "\n",
      "\n",
      "\n",
      "Page: Major League Cricket\n",
      "Summary: Major League Cricket (MLC) is a professional Twenty20 (T20) cricket league in the United States organized by American Cricket Enterprises (ACE) and sanctioned by USA Cricket. Founded in 2023, the league operates as a single entity consisting of six city-based franchises, which are operated by individual groups of investors.\n",
      "Its inaugural season began on July 13, 2023; currently, MLC plays most of its matches at neutral venues (such as Grand Prairie Stadium in Grand Prairie, Texas, a former ballpark that ACE converted to a cricket stadium), with plans to eventually build dedicated cricket grounds for each team within their local market. The first two seasons were held in the month of July; the 2025 season moved the start of the season to June, and expanded to a 34-match season.\n",
      "As of 2025, there have been three seasons of MLC; MI New York are the current defending champions, after having defeated the Washington Freedom in the 2025 final. MLC also operates a sister developmental league known as Minor League Cricket (MiLC), which launched ahead of MLC in 2021.\n",
      "\n",
      "Page: Microsoft\n",
      "Summary: Microsoft Corporation is an American multinational corporation and technology conglomerate headquartered in Redmond, Washington. Founded in 1975, the company became influential in the rise of personal computers through software like Windows, and the company has since expanded to Internet services, cloud computing, video gaming and other fields. Microsoft is the largest software maker, one of the most valuable public U.S. companies, and one of the most valuable brands globally.\n",
      "Microsoft was founded by Bill Gates and Paul Allen to develop and sell BASIC interpreters for the Altair 8800. It rose to dominate the personal computer operating system market with MS-DOS in the mid-1980s, followed by Windows. During the 41 years from 1980 to 2021 Microsoft released 9 versions of MS-DOS with a median frequency of 2 years, and 13 versions of Windows with a median frequency of 3 years. The company's 1986 initial public offering (IPO) and subsequent rise in its share price created three billionaires and an estimated 12,000 millionaires among Microsoft employees. Since the 1990s, it has increasingly diversified from the operating system market. Steve Ballmer replaced Gates as CEO in 2000.  He oversaw the then-largest of Microsoft's corporate acquisitions in Skype Technologies in 2011, and an increased focus on hardware that led to its first in-house PC line, the Surface, in 2012, and the formation of Microsoft Mobile through Nokia. Since Satya Nadella took over as CEO in 2014, the company has changed focus towards cloud computing, as well as its large acquisition of LinkedIn for $26.2 billion in 2016. Under Nadella's direction, the company has also expanded its video gaming business to support the Xbox brand, establishing the Microsoft Gaming division in 2022 and acquiring Activision Blizzard for $68.7 billion in 2023.\n",
      "Microsoft has been market-dominant in the IBM PC–compatible operating system market and the office software suite market since the 1990s. Its best-known software products are the Windows line of operating systems and the Microsoft Office and Microsoft 365 suite of productivity applications, which most notably include the Word word processor, Excel spreadsheet editor, and the PowerPoint presentation program. Its flagship hardware products are the Surface lineup of personal computers and Xbox video game consoles, the latter of which includes the Xbox network; the company also\u001b[0m\n",
      "Thought:\u001b[32;1m\u001b[1;3mThought: I have the birthdate of Satya Nadella, now I need to calculate his age as of 2023.\n",
      "\n",
      "Action: Calculator\n",
      "Action Input: 2023 - 1967\u001b[0m\n",
      "Observation: \u001b[33;1m\u001b[1;3mAnswer: 56\u001b[0m\n",
      "Thought:\u001b[32;1m\u001b[1;3mThought: I now know the final answer\n",
      "Final Answer: Satya Nadella was born on August 19, 1967, and as of 2023, he is 56 years old.\u001b[0m\n",
      "\n",
      "\u001b[1m> Finished chain.\u001b[0m\n"
     ]
    },
    {
     "data": {
      "text/plain": [
       "'Satya Nadella was born on August 19, 1967, and as of 2023, he is 56 years old.'"
      ]
     },
     "execution_count": 6,
     "metadata": {},
     "output_type": "execute_result"
    }
   ],
   "source": [
    "# Using Agnets  \n",
    "from langchain.agents import AgentType , initialize_agent, load_tools\n",
    "from langchain_groq import ChatGroq\n",
    "llm = ChatGroq(\n",
    "    model_name=\"llama3-70b-8192\",  # or other valid Groq model\n",
    "    temperature=0.7\n",
    ")\n",
    "tools = load_tools([\"wikipedia\", \"llm-math\"], llm=llm)\n",
    "agent = initialize_agent(\n",
    "    tools=tools,\n",
    "    llm=llm,\n",
    "    agent_type=AgentType.ZERO_SHOT_REACT_DESCRIPTION,\n",
    "    verbose=True\n",
    ")\n",
    "agent.run(\"When was the satya nadela born? and  is his ange right now in 2023?\")\n"
   ]
  },
  {
   "cell_type": "code",
   "execution_count": null,
   "id": "1082d496",
   "metadata": {},
   "outputs": [],
   "source": [
    "\n"
   ]
  },
  {
   "cell_type": "markdown",
   "id": "c1327b29",
   "metadata": {},
   "source": [
    "MEMORY"
   ]
  },
  {
   "cell_type": "code",
   "execution_count": null,
   "id": "994d766a",
   "metadata": {},
   "outputs": [
    {
     "name": "stderr",
     "output_type": "stream",
     "text": [
      "C:\\Users\\wadud\\AppData\\Local\\Temp\\ipykernel_13816\\3628294274.py:3: LangChainDeprecationWarning: Please see the migration guide at: https://python.langchain.com/docs/versions/migrating_memory/\n",
      "  memory = ConversationBufferMemory()\n",
      "C:\\Users\\wadud\\AppData\\Local\\Temp\\ipykernel_13816\\3628294274.py:10: LangChainDeprecationWarning: The method `Chain.run` was deprecated in langchain 0.1.0 and will be removed in 1.0. Use :meth:`~invoke` instead.\n",
      "  chain.run(cuisine=\"France\")\n"
     ]
    },
    {
     "data": {
      "text/plain": [
       "'Bonjour! Opening a French food establishment, eh? Here are some fancy name suggestions to get you started:\\n\\n1. **Bistro Bliss**: A playful name that evokes feelings of joy and satisfaction, perfect for a cozy French bistro.\\n2. **La Belle Époque**: A nod to the beautiful era of French history, this name promises a sophisticated and elegant dining experience.\\n3. **Le Coeur de la France**: Translating to \"The Heart of France,\" this name proudly showcases your establishment\\'s French heritage.\\n4. **Patisserie Royale**: For a bakery or café, this regal name highlights the art of French patisserie and implies a luxurious experience.\\n5. **Chez Pierre**: A classic French name that means \"At Pierre\\'s,\" implying a warm and welcoming atmosphere, like dining at a friend\\'s home.\\n6. **La Maison Gourmande**: This name, meaning \"The Gourmet House,\" promises a culinary journey of refined flavors and exquisite dishes.\\n7. **Faubourg Fusion**: \"Faubourg\" means \"suburb\" in French, while \"Fusion\" hints at the blending of traditional French cuisine with modern twists.\\n8. **Le Jardin Gourmet**: This name, meaning \"The Gourmet Garden,\" transports customers to a lush, idyllic setting, perfect for a fine dining experience.\\n9. **Café de la Vie**: Translating to \"Café of Life,\" this name captures the essence of French café culture, where life\\'s simple pleasures are savored.\\n10. **L\\'Atelier Culinaire**: This name, meaning \"The Culinary Workshop,\" suggests a creative, artisanal approach to cooking, perfect for a French food establishment with a focus on craftsmanship.\\n\\nChoose a name that reflects your establishment\\'s atmosphere, cuisine, and values. Bonne chance avec votre nouveau projet!'"
      ]
     },
     "execution_count": 12,
     "metadata": {},
     "output_type": "execute_result"
    }
   ],
   "source": [
    "from langchain.memory import ConversationBufferMemory\n",
    "\n",
    "memory = ConversationBufferMemory()\n",
    "\n",
    "chain = LLMChain(\n",
    "    llm=llm,\n",
    "    prompt=prompt_template_name,\n",
    "    memory=memory\n",
    ")\n",
    "chain.run(cuisine=\"India\")"
   ]
  },
  {
   "cell_type": "code",
   "execution_count": 15,
   "id": "ef4441a8",
   "metadata": {},
   "outputs": [
    {
     "name": "stdout",
     "output_type": "stream",
     "text": [
      "Human: France\n",
      "AI: Bonjour! Opening a French food establishment, eh? Here are some fancy name suggestions to get you started:\n",
      "\n",
      "1. **Bistro Bliss**: A playful name that evokes feelings of joy and satisfaction, perfect for a cozy French bistro.\n",
      "2. **La Belle Époque**: A nod to the beautiful era of French history, this name promises a sophisticated and elegant dining experience.\n",
      "3. **Le Coeur de la France**: Translating to \"The Heart of France,\" this name proudly showcases your establishment's French heritage.\n",
      "4. **Patisserie Royale**: For a bakery or café, this regal name highlights the art of French patisserie and implies a luxurious experience.\n",
      "5. **Chez Pierre**: A classic French name that means \"At Pierre's,\" implying a warm and welcoming atmosphere, like dining at a friend's home.\n",
      "6. **La Maison Gourmande**: This name, meaning \"The Gourmet House,\" promises a culinary journey of refined flavors and exquisite dishes.\n",
      "7. **Faubourg Fusion**: \"Faubourg\" means \"suburb\" in French, while \"Fusion\" hints at the blending of traditional French cuisine with modern twists.\n",
      "8. **Le Jardin Gourmet**: This name, meaning \"The Gourmet Garden,\" transports customers to a lush, idyllic setting, perfect for a fine dining experience.\n",
      "9. **Café de la Vie**: Translating to \"Café of Life,\" this name captures the essence of French café culture, where life's simple pleasures are savored.\n",
      "10. **L'Atelier Culinaire**: This name, meaning \"The Culinary Workshop,\" suggests a creative, artisanal approach to cooking, perfect for a French food establishment with a focus on craftsmanship.\n",
      "\n",
      "Choose a name that reflects your establishment's atmosphere, cuisine, and values. Bonne chance avec votre nouveau projet!\n"
     ]
    }
   ],
   "source": [
    "print(chain.memory.buffer)  \n",
    "# Print the memory buffer to see the conversation history"
   ]
  },
  {
   "cell_type": "code",
   "execution_count": 18,
   "id": "ad1caace",
   "metadata": {},
   "outputs": [
    {
     "name": "stdout",
     "output_type": "stream",
     "text": [
      "The following is a friendly conversation between a human and an AI. The AI is talkative and provides lots of specific details from its context. If the AI does not know the answer to a question, it truthfully says it does not know.\n",
      "\n",
      "Current conversation:\n",
      "{history}\n",
      "Human: {input}\n",
      "AI:\n"
     ]
    }
   ],
   "source": [
    "from langchain.chains import ConversationChain\n",
    "\n",
    "convo = ConversationChain(\n",
    "    llm=llm,\n",
    ")\n",
    "print(convo.prompt.template)"
   ]
  },
  {
   "cell_type": "code",
   "execution_count": 19,
   "id": "0ed65995",
   "metadata": {},
   "outputs": [
    {
     "name": "stderr",
     "output_type": "stream",
     "text": [
      "C:\\Users\\wadud\\AppData\\Local\\Temp\\ipykernel_13816\\1894850092.py:2: LangChainDeprecationWarning: Please see the migration guide at: https://python.langchain.com/docs/versions/migrating_memory/\n",
      "  memory = ConversationBufferWindowMemory(\n"
     ]
    },
    {
     "data": {
      "text/plain": [
       "'Bonjour! The capital of France is Paris, of course! Did you know that Paris is often called the \"City of Light\" due to its rich cultural and intellectual history, as well as its stunning urban planning and architecture? The Eiffel Tower, the Louvre Museum, and Notre-Dame Cathedral are just a few of the many iconic landmarks that make Paris a must-visit destination. Would you like to know more about Paris or France in general?'"
      ]
     },
     "execution_count": 19,
     "metadata": {},
     "output_type": "execute_result"
    }
   ],
   "source": [
    "from langchain.memory import ConversationBufferWindowMemory\n",
    "memory = ConversationBufferWindowMemory(\n",
    "    k=3,  # Number of messages to keep in memory\n",
    ")\n",
    "convo = ConversationChain(\n",
    "    llm=llm,\n",
    "    memory=memory\n",
    ")\n",
    "convo.run(\"What is the capital of France?\")"
   ]
  },
  {
   "cell_type": "code",
   "execution_count": 20,
   "id": "924a7a95",
   "metadata": {},
   "outputs": [
    {
     "data": {
      "text/plain": [
       "\"Namaste! The capital of India is New Delhi! Did you know that New Delhi is a planned city, designed by British architects Edwin Lutyens and Herbert Baker in the early 20th century? The city is home to many iconic landmarks such as the India Gate, the Rashtrapati Bhavan, and the Qutub Minar, which is a UNESCO World Heritage Site. New Delhi is also known for its vibrant cultural scene, with a blend of traditional and modern influences. Would you like to know more about India's rich history, its diverse regions, or its vibrant cities?\""
      ]
     },
     "execution_count": 20,
     "metadata": {},
     "output_type": "execute_result"
    }
   ],
   "source": [
    "convo.run(\"What is the capital of India?\")"
   ]
  }
 ],
 "metadata": {
  "kernelspec": {
   "display_name": "Python 3",
   "language": "python",
   "name": "python3"
  },
  "language_info": {
   "codemirror_mode": {
    "name": "ipython",
    "version": 3
   },
   "file_extension": ".py",
   "mimetype": "text/x-python",
   "name": "python",
   "nbconvert_exporter": "python",
   "pygments_lexer": "ipython3",
   "version": "3.12.4"
  }
 },
 "nbformat": 4,
 "nbformat_minor": 5
}
